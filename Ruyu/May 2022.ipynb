{
 "cells": [
  {
   "cell_type": "markdown",
   "id": "4cde996b",
   "metadata": {},
   "source": [
    "# DFS \n",
    "\n",
    "### May 11 2022: Review Number of islands, range sum of BST"
   ]
  },
  {
   "cell_type": "markdown",
   "id": "c8903538",
   "metadata": {},
   "source": [
    "### May 13 2022: Diameter of Binary Tree"
   ]
  },
  {
   "cell_type": "code",
   "execution_count": 1,
   "id": "e6ee4572",
   "metadata": {},
   "outputs": [],
   "source": [
    "# Definition for a binary tree node.\n",
    "# class TreeNode(object):\n",
    "#     def __init__(self, val=0, left=None, right=None):\n",
    "#         self.val = val\n",
    "#         self.left = left\n",
    "#         self.right = right\n",
    "class Solution(object):\n",
    "    def diameterOfBinaryTree(self, root):\n",
    "        \"\"\"\n",
    "        :type root: TreeNode\n",
    "        :rtype: int\n",
    "        \"\"\"\n",
    "        self.best = 1\n",
    "        def depth(root):\n",
    "            if not root: return 0\n",
    "            ansL = depth(root.left)\n",
    "            ansR = depth(root.right)\n",
    "            self.best = max(self.best, ansL+ansR+1)\n",
    "            return 1+max(ansL, ansR)\n",
    "        depth(root)\n",
    "        return self.best-1"
   ]
  },
  {
   "cell_type": "code",
   "execution_count": null,
   "id": "a21a1970",
   "metadata": {},
   "outputs": [],
   "source": []
  }
 ],
 "metadata": {
  "kernelspec": {
   "display_name": "Python 3",
   "language": "python",
   "name": "python3"
  },
  "language_info": {
   "codemirror_mode": {
    "name": "ipython",
    "version": 3
   },
   "file_extension": ".py",
   "mimetype": "text/x-python",
   "name": "python",
   "nbconvert_exporter": "python",
   "pygments_lexer": "ipython3",
   "version": "3.8.8"
  }
 },
 "nbformat": 4,
 "nbformat_minor": 5
}

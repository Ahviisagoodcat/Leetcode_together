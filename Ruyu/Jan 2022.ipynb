{
 "cells": [
  {
   "cell_type": "markdown",
   "id": "f6e3088b",
   "metadata": {},
   "source": [
    "## House Robber 01/02/22"
   ]
  },
  {
   "cell_type": "code",
   "execution_count": null,
   "id": "b9353f0e",
   "metadata": {},
   "outputs": [],
   "source": [
    "class Solution:\n",
    "    def rob(self, nums):\n",
    "        a=b=0\n",
    "        for x in nums:\n",
    "            a,b = b, max(a+x,b)\n",
    "        return b  "
   ]
  },
  {
   "cell_type": "markdown",
   "id": "0045a224",
   "metadata": {},
   "source": [
    "## Minimum Number of Refueling stops 01/03/22"
   ]
  },
  {
   "cell_type": "code",
   "execution_count": 4,
   "id": "e3c2b09b",
   "metadata": {},
   "outputs": [],
   "source": [
    "class Solution:\n",
    "    def minRefuelStops(self, target, startFuel, stations):\n",
    "        dp=[startFuel]+[0]*len(stations)\n",
    "        for i, (location, capacity) in enumerate(stations):\n",
    "            for t in range(i,-1,-1):\n",
    "                if dp[t]>=location:\n",
    "                    dp[t+1]=max(dp[t+1],dp[t]+capacity)\n",
    "        for i, d in enumerate(dp):\n",
    "            if d>=target: return i\n",
    "        return -1"
   ]
  },
  {
   "cell_type": "markdown",
   "id": "c3fb17da",
   "metadata": {},
   "source": [
    "## Regular Expression Matching 01/04/22"
   ]
  },
  {
   "cell_type": "code",
   "execution_count": 2,
   "id": "f144d90c",
   "metadata": {},
   "outputs": [],
   "source": [
    "class Solution(object):## recursion\n",
    "    def isMatch(self, text, p):\n",
    "        \"\"\"\n",
    "        :type s: str\n",
    "        :type p: str\n",
    "        :rtype: bool\n",
    "        \"\"\"\n",
    "        if not p:\n",
    "            return not text\n",
    "        first_match=bool(text) and p[0] in {text[0],'.'}\n",
    "        \n",
    "        if len(pattern)>=2 and p[1]=='*':\n",
    "            return (self.isMatch(text, p[2:]) or\n",
    "                   first_match and self.isMatch(text[1:], p))\n",
    "        else:\n",
    "            return first_match and self.isMatch(text[1:],p[1:])"
   ]
  },
  {
   "cell_type": "markdown",
   "id": "e61efa15",
   "metadata": {},
   "source": [
    "## Minimum One Bit Operations to Make Integers Zero 01/05/22"
   ]
  },
  {
   "cell_type": "code",
   "execution_count": 7,
   "id": "db097623",
   "metadata": {},
   "outputs": [],
   "source": [
    "class Solution(object):\n",
    "    dp = {0: 0}\n",
    "    def minimumOneBitOperations(self, n):\n",
    "        \"\"\"\n",
    "        :type n: int\n",
    "        :rtype: int\n",
    "        \"\"\"\n",
    "        if n not in self.dp:\n",
    "            b=1\n",
    "            while(b<<1)<=n:\n",
    "                b=b<<1\n",
    "            self.dp[n]=self.minimumOneBitOperations((b>>1)^b^n)+1+b-1\n",
    "        return self.dp[n]\n",
    "        "
   ]
  },
  {
   "cell_type": "markdown",
   "id": "6f7b015d",
   "metadata": {},
   "source": [
    " ## Longest Valid Parentheses 01/06/22\n",
    "Given a string containing just the characters '(' and ')', find the length of the longest valid (well-formed) parentheses substring."
   ]
  },
  {
   "cell_type": "code",
   "execution_count": 1,
   "id": "bb58ec4c",
   "metadata": {},
   "outputs": [],
   "source": [
    "class Solution(object):\n",
    "    def longestValidParentheses(self, s):\n",
    "        \"\"\"\n",
    "        :type s: str\n",
    "        :rtype: int\n",
    "        \"\"\"\n",
    "        dp, stack = [0]*(len(s)+1),[]\n",
    "        for i in range(len(s)):\n",
    "            if s[i]=='(':\n",
    "                stack.append(i)\n",
    "            else:\n",
    "                if stack:\n",
    "                    p=stack.pop()\n",
    "                    dp[i+1]=dp[p]+i-p+1\n",
    "        return max(dp)"
   ]
  },
  {
   "cell_type": "code",
   "execution_count": 2,
   "id": "89dd7967",
   "metadata": {},
   "outputs": [],
   "source": [
    "class Solution(object):\n",
    "    def longestValidParentheses(self, s):\n",
    "        \"\"\"\n",
    "        :type s: str\n",
    "        :rtype: int\n",
    "        \"\"\"\n",
    "        dp = [0]*len(s)\n",
    "        for i in range(1, len(s)):\n",
    "            p = i-dp[i-1]-1\n",
    "            if p>=0 and s[i]==\")\" and s[p]==\"(\":\n",
    "                dp[i]=dp[i-1]+2+dp[p-1]\n",
    "        return max(dp) if s else 0"
   ]
  },
  {
   "cell_type": "markdown",
   "id": "3e576306",
   "metadata": {},
   "source": [
    "##  Best Time to Buy and Sell Stock II 01/07/22"
   ]
  },
  {
   "cell_type": "code",
   "execution_count": 1,
   "id": "57837442",
   "metadata": {},
   "outputs": [],
   "source": [
    "class Solution(object):\n",
    "    def maxProfit(self, prices):\n",
    "        \"\"\"\n",
    "        :type prices: List[int]\n",
    "        :rtype: int\n",
    "        \"\"\"\n",
    "        res = 0\n",
    "        for i in range(len(prices)-1):\n",
    "            p = prices[i+1]-prices[i]\n",
    "            if p>0:\n",
    "                res+=p\n",
    "        return res"
   ]
  },
  {
   "cell_type": "markdown",
   "id": "b31ccbc0",
   "metadata": {},
   "source": [
    "## Largest Divisible subset 1/08/21\n",
    "Given a set of distinct positive integers nums, return the largest subset answer such that every pair (answer[i], answer[j]) of elements in this subset satisfies:answer[i] % answer[j] == 0, or\n",
    "answer[j] % answer[i] == 0"
   ]
  },
  {
   "cell_type": "code",
   "execution_count": 2,
   "id": "d8df52d8",
   "metadata": {},
   "outputs": [],
   "source": [
    "class Solution(object):\n",
    "    def largestDivisibleSubset(self, nums):\n",
    "        \"\"\"\n",
    "        :type nums: List[int]\n",
    "        :rtype: List[int]\n",
    "        \"\"\"\n",
    "        subsets = {-1:set()}\n",
    "        for num in sorted(nums):\n",
    "            subsets[num]=max([subsets[k] for k in subsets if num%k==0],key=len)|{num}\n",
    "            \n",
    "            return list(max(subsets.values(), key=len))"
   ]
  },
  {
   "cell_type": "markdown",
   "id": "395ad140",
   "metadata": {},
   "source": [
    "## Knight Dialer 1/09/21"
   ]
  },
  {
   "cell_type": "code",
   "execution_count": 6,
   "id": "f957053c",
   "metadata": {},
   "outputs": [],
   "source": [
    "class Solution(object):\n",
    "    def knightDialer(self, n):\n",
    "        \"\"\"\n",
    "        :type n: int\n",
    "        :rtype: int\n",
    "        \"\"\"\n",
    "        dct = {\n",
    "            0:(4,6),\n",
    "            1:(6,8),\n",
    "            2:(7,9),\n",
    "            3:(4,8),\n",
    "            4:(0,3,9),\n",
    "            5:(),\n",
    "            6:(0,1,7),\n",
    "            7:(2,6),\n",
    "            8:(1,3),\n",
    "            9:(2,4)\n",
    "        }\n",
    "        dp = [1]*10\n",
    "        \n",
    "        for _ in range(n-1):\n",
    "            nxt = [0]*10\n",
    "            for i in range(10):\n",
    "                for j in dct[i]:\n",
    "                    nxt[i]+=dp[j]\n",
    "            dp=nxt\n",
    "        return sum(dp)%(10**9+7)"
   ]
  }
 ],
 "metadata": {
  "kernelspec": {
   "display_name": "Python 3",
   "language": "python",
   "name": "python3"
  },
  "language_info": {
   "codemirror_mode": {
    "name": "ipython",
    "version": 3
   },
   "file_extension": ".py",
   "mimetype": "text/x-python",
   "name": "python",
   "nbconvert_exporter": "python",
   "pygments_lexer": "ipython3",
   "version": "3.8.8"
  }
 },
 "nbformat": 4,
 "nbformat_minor": 5
}

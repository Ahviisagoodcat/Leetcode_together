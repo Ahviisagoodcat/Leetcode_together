{
 "cells": [
  {
   "cell_type": "markdown",
   "id": "ec16bd0b",
   "metadata": {},
   "source": [
    "## Two sum 11/05/21\n",
    "Given an array of integers nums and an integer target, return indices of the two numbers such that they add up to target. Time: O(n); Memory: O(n)"
   ]
  },
  {
   "cell_type": "code",
   "execution_count": 1,
   "id": "171122b8",
   "metadata": {},
   "outputs": [],
   "source": [
    "class Solution(object):\n",
    "    def twoSum(self, nums, target):\n",
    "        # nums is a list here, target is int\n",
    "        required={} # An empty dictionary val: index\n",
    "        for i in range(len(nums)):\n",
    "            if target-nums[i] in required:\n",
    "                return [required[target-nums[i]],i]\n",
    "            else:\n",
    "                required[nums[i]]=i"
   ]
  },
  {
   "cell_type": "code",
   "execution_count": 2,
   "id": "154bc166",
   "metadata": {},
   "outputs": [
    {
     "name": "stdout",
     "output_type": "stream",
     "text": [
      "[1, 2]\n"
     ]
    }
   ],
   "source": [
    "### toy example\n",
    "input_list=[2,8,12,15]\n",
    "ob1=Solution()\n",
    "print(ob1.twoSum(input_list,20))"
   ]
  },
  {
   "cell_type": "markdown",
   "id": "76097ffa",
   "metadata": {},
   "source": [
    "## Palindrome Number 11/05/21\n",
    "Determine whether an integer is a palindrome. An integer is a palindrome when it reads the same backward as forward.\n",
    "Follow up: Could you solve it without converting the integer to a string?\n",
    "Time: O(n); space: O(1)\n",
    "Booleans represent one of two values: True or False."
   ]
  },
  {
   "cell_type": "code",
   "execution_count": 3,
   "id": "c3b16c2f",
   "metadata": {},
   "outputs": [],
   "source": [
    "class Solution:\n",
    "    def isPalindrome(self, x):\n",
    "            rev = 0\n",
    "            init_n = x\n",
    "            if x < 0:\n",
    "              return False\n",
    "            while x > 0:\n",
    "                    rev = (rev*10) +  x % 10\n",
    "                    x = x // 10\n",
    "            return rev == init_n"
   ]
  },
  {
   "cell_type": "code",
   "execution_count": 4,
   "id": "39077fdb",
   "metadata": {},
   "outputs": [
    {
     "data": {
      "text/plain": [
       "False"
      ]
     },
     "execution_count": 4,
     "metadata": {},
     "output_type": "execute_result"
    }
   ],
   "source": [
    "ob1=Solution()\n",
    "ob1.isPalindrome(100)"
   ]
  },
  {
   "cell_type": "markdown",
   "id": "5ed138c3",
   "metadata": {},
   "source": [
    "## Reverse Integer 11/05/21 \n",
    "Given a 32-bit signed integer, reverse digits of an integer. negative just add - in the front and treated as positive integer. Follow-up: how to do non-interger reverse?"
   ]
  },
  {
   "cell_type": "code",
   "execution_count": 111,
   "id": "5dbd399e",
   "metadata": {},
   "outputs": [],
   "source": [
    "class Solution:\n",
    "    def reverse(self, x: int) -> int:\n",
    "        sum = 0\n",
    "        temp = abs(x)\n",
    "        while temp>0:\n",
    "            sum = (sum*10) + (temp%10)\n",
    "            temp = temp//10\n",
    "        \n",
    "        if sum >= -(2**31) and sum <= ((2**31)-1):\n",
    "            if x<0:\n",
    "                sum = -1*sum\n",
    "                return sum\n",
    "            else:\n",
    "                return sum\n",
    "        else:\n",
    "            return 0"
   ]
  },
  {
   "cell_type": "code",
   "execution_count": 116,
   "id": "8bebdf17",
   "metadata": {},
   "outputs": [
    {
     "data": {
      "text/plain": [
       "-4321"
      ]
     },
     "execution_count": 116,
     "metadata": {},
     "output_type": "execute_result"
    }
   ],
   "source": [
    "ob1 = Solution()\n",
    "ob1.reverse(-1234)"
   ]
  },
  {
   "cell_type": "markdown",
   "id": "ffeee257",
   "metadata": {},
   "source": [
    "## Roman to Integer python 11/06/21\n",
    "I 1,V  5, X 10, L 50, C 100, D 500, M 1000 change string to number \n",
    "if some substring is present in the table, then take its value into result, then check for the next, for next match, it adds the value with the result, finally forms the number."
   ]
  },
  {
   "cell_type": "code",
   "execution_count": 121,
   "id": "5448bcbe",
   "metadata": {},
   "outputs": [],
   "source": [
    "class Solution:\n",
    "    def romanToInt(self, s: str):\n",
    "        roman ={'I':1,'V':5,'X':10,'L':50,'C':100,'D':500,'M':1000,'IV':4,'IX':9,'XL':40,'XC':90,'CD':400,'CM':900}\n",
    "        i=0\n",
    "        num=0\n",
    "        while i<len(s):\n",
    "            #print(i)\n",
    "            if i+1<len(s) and s[i:i+2] in roman:\n",
    "                num=num+roman[s[i:i+2]]\n",
    "                i=i+2\n",
    "            else:\n",
    "                num=num+roman[s[i]]\n",
    "                i=i+1\n",
    "        return num"
   ]
  },
  {
   "cell_type": "code",
   "execution_count": 122,
   "id": "94aec3eb",
   "metadata": {},
   "outputs": [
    {
     "name": "stdout",
     "output_type": "stream",
     "text": [
      "0\n",
      "2\n",
      "4\n"
     ]
    },
    {
     "data": {
      "text/plain": [
       "1340"
      ]
     },
     "execution_count": 122,
     "metadata": {},
     "output_type": "execute_result"
    }
   ],
   "source": [
    "ob=Solution()\n",
    "ob.romanToInt('CMCDXL')"
   ]
  },
  {
   "cell_type": "markdown",
   "id": "0f25a2e0",
   "metadata": {},
   "source": [
    "## Longest Common Prefix 11/06/21\n",
    "Write a function to find the longest common prefix string amongst an array of strings. If there is no common prefix, return an empty string \"\"."
   ]
  },
  {
   "cell_type": "code",
   "execution_count": 153,
   "id": "00dd3131",
   "metadata": {},
   "outputs": [],
   "source": [
    "class Solution:\n",
    "    def longestCommonPrefix(self, strs):\n",
    "        if not strs: return \"\"\n",
    "        s1=min(strs)\n",
    "        s2=max(strs)\n",
    "        for i, c in enumerate(s1):\n",
    "            if c != s2[i]:\n",
    "                return s1[:i]\n",
    "        return s1"
   ]
  },
  {
   "cell_type": "code",
   "execution_count": 154,
   "id": "3425823b",
   "metadata": {},
   "outputs": [
    {
     "data": {
      "text/plain": [
       "''"
      ]
     },
     "execution_count": 154,
     "metadata": {},
     "output_type": "execute_result"
    }
   ],
   "source": [
    "ob=Solution()\n",
    "ob.longestCommonPrefix([\"hello\",\"whhhh\",\"hoo\",\"fhhhhh\"])"
   ]
  },
  {
   "cell_type": "markdown",
   "id": "739ee2d9",
   "metadata": {},
   "source": [
    "## Valid Parentheses  11/06/21\n",
    "An input string is valid if:\n",
    "\n",
    "Open brackets must be closed by the same type of brackets.\n",
    "Open brackets must be closed in the correct order.\n",
    "replace valid parentheses with '' just need to check the length in the end"
   ]
  },
  {
   "cell_type": "code",
   "execution_count": 165,
   "id": "28bca3ed",
   "metadata": {},
   "outputs": [],
   "source": [
    "class Solution:\n",
    "    def isValid(self, s):\n",
    "        n = len(s)\n",
    "        if n==0:\n",
    "            return True\n",
    "        if n%2!=0:\n",
    "            return False\n",
    "        while '()' in s or '{}' in s or '[]' in s:\n",
    "            s=s.replace('()','').replace('{}','').replace('[]','')\n",
    "        return len(s)==0"
   ]
  },
  {
   "cell_type": "code",
   "execution_count": 166,
   "id": "bc34c309",
   "metadata": {},
   "outputs": [
    {
     "data": {
      "text/plain": [
       "False"
      ]
     },
     "execution_count": 166,
     "metadata": {},
     "output_type": "execute_result"
    }
   ],
   "source": [
    "ob=Solution()\n",
    "ob.isValid(['([)]'])"
   ]
  },
  {
   "cell_type": "markdown",
   "id": "6e71a4b8",
   "metadata": {},
   "source": [
    "## Merge Two Sorted Lists to a sorted list\n",
    "Merge two sorted linked lists and return it as a sorted list. The list should be made by splicing together the nodes of the first two lists. Doing in a recursive way\n",
    "Def: A linked list is a linear collection of data elements whose order is not given by their physical placement in memory. Instead, each element points to the next.\n",
    "time: O(n + m)"
   ]
  },
  {
   "cell_type": "code",
   "execution_count": 167,
   "id": "4832eaed",
   "metadata": {},
   "outputs": [],
   "source": [
    "#### hahhaha no extend here\n",
    "class Solution:\n",
    "    def mergeTwoLists(self, l1, l2):\n",
    "        a=l1.extend(l2)\n",
    "        return sorted(a)"
   ]
  },
  {
   "cell_type": "code",
   "execution_count": 168,
   "id": "63464b58",
   "metadata": {},
   "outputs": [],
   "source": [
    "class ListNode:\n",
    "    def __init__(self, val, next=None):\n",
    "        self.val = val\n",
    "        self.next = next\n",
    "class Solution:\n",
    "    def mergeTwoLists(self, l1, l2):\n",
    "        if l2 is None:\n",
    "            return l1\n",
    "        if l1 is None:\n",
    "            return l2\n",
    "        elif l1.val<l2.val:\n",
    "            l1.next = self.mergeTwoLists(l1.next,l2)\n",
    "            return l1\n",
    "        else:\n",
    "            l2.next = self.mergeTwoLists(l1,l2.next)\n",
    "            return l2"
   ]
  },
  {
   "cell_type": "code",
   "execution_count": null,
   "id": "346d7410",
   "metadata": {},
   "outputs": [],
   "source": []
  }
 ],
 "metadata": {
  "kernelspec": {
   "display_name": "p37",
   "language": "python",
   "name": "p37"
  },
  "language_info": {
   "codemirror_mode": {
    "name": "ipython",
    "version": 3
   },
   "file_extension": ".py",
   "mimetype": "text/x-python",
   "name": "python",
   "nbconvert_exporter": "python",
   "pygments_lexer": "ipython3",
   "version": "3.7.11"
  }
 },
 "nbformat": 4,
 "nbformat_minor": 5
}

{
 "cells": [
  {
   "cell_type": "markdown",
   "id": "d3ccf431",
   "metadata": {},
   "source": [
    "## Valid Palindrome II 02/01/22"
   ]
  },
  {
   "cell_type": "code",
   "execution_count": 1,
   "id": "faebf837",
   "metadata": {},
   "outputs": [],
   "source": [
    "class Solution(object):#two-pointer \n",
    "    def validPalindrome(self, s):\n",
    "        \"\"\"\n",
    "        :type s: str\n",
    "        :rtype: bool\n",
    "        \"\"\"\n",
    "        # Time: O(n)\n",
    "        # Space: O(n)\n",
    "        left, right = 0, len(s)-1\n",
    "        while left<right:\n",
    "            if s[left]!=s[right]:\n",
    "                one, two = s[left:right], s[left+1:right+1]\n",
    "                return one==one[::-1] or two == two[::-1]\n",
    "            left,right=left+1,right-1\n",
    "        return True"
   ]
  }
 ],
 "metadata": {
  "kernelspec": {
   "display_name": "Python 3",
   "language": "python",
   "name": "python3"
  },
  "language_info": {
   "codemirror_mode": {
    "name": "ipython",
    "version": 3
   },
   "file_extension": ".py",
   "mimetype": "text/x-python",
   "name": "python",
   "nbconvert_exporter": "python",
   "pygments_lexer": "ipython3",
   "version": "3.8.8"
  }
 },
 "nbformat": 4,
 "nbformat_minor": 5
}

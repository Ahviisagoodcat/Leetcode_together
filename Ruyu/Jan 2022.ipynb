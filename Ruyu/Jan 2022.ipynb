{
 "cells": [
  {
   "cell_type": "markdown",
   "id": "f6e3088b",
   "metadata": {},
   "source": [
    "## House Robber 01/02/22"
   ]
  },
  {
   "cell_type": "code",
   "execution_count": null,
   "id": "b9353f0e",
   "metadata": {},
   "outputs": [],
   "source": [
    "class Solution:\n",
    "    def rob(self, nums):\n",
    "        a=b=0\n",
    "        for x in nums:\n",
    "            a,b = b, max(a+x,b)\n",
    "        return b  "
   ]
  },
  {
   "cell_type": "markdown",
   "id": "0045a224",
   "metadata": {},
   "source": [
    "## Minimum Number of Refueling stops 01/03/22"
   ]
  },
  {
   "cell_type": "code",
   "execution_count": 4,
   "id": "e3c2b09b",
   "metadata": {},
   "outputs": [],
   "source": [
    "class Solution:\n",
    "    def minRefuelStops(self, target, startFuel, stations):\n",
    "        dp=[startFuel]+[0]*len(stations)\n",
    "        for i, (location, capacity) in enumerate(stations):\n",
    "            for t in range(i,-1,-1):\n",
    "                if dp[t]>=location:\n",
    "                    dp[t+1]=max(dp[t+1],dp[t]+capacity)\n",
    "        for i, d in enumerate(dp):\n",
    "            if d>=target: return i\n",
    "        return -1"
   ]
  },
  {
   "cell_type": "markdown",
   "id": "de887b79",
   "metadata": {},
   "source": [
    "## Regular Expression Matching 01/04/22"
   ]
  },
  {
   "cell_type": "code",
   "execution_count": 1,
   "id": "87355a4e",
   "metadata": {},
   "outputs": [],
   "source": [
    "class Solution(object):## recursion\n",
    "    def isMatch(self, text, p):\n",
    "        \"\"\"\n",
    "        :type s: str\n",
    "        :type p: str\n",
    "        :rtype: bool\n",
    "        \"\"\"\n",
    "        if not p:\n",
    "            return not text\n",
    "        first_match=bool(text) and p[0] in {text[0],'.'}\n",
    "        \n",
    "        if len(pattern)>=2 and p[1]=='*':\n",
    "            return (self.isMatch(text, p[2:]) or\n",
    "                   first_match and self.isMatch(text[1:], p))\n",
    "        else:\n",
    "            return first_match and self.isMatch(text[1:],p[1:])"
   ]
  },
  {
   "cell_type": "code",
   "execution_count": null,
   "id": "8c87d8d7",
   "metadata": {},
   "outputs": [],
   "source": []
  }
 ],
 "metadata": {
  "kernelspec": {
   "display_name": "Python 3",
   "language": "python",
   "name": "python3"
  },
  "language_info": {
   "codemirror_mode": {
    "name": "ipython",
    "version": 3
   },
   "file_extension": ".py",
   "mimetype": "text/x-python",
   "name": "python",
   "nbconvert_exporter": "python",
   "pygments_lexer": "ipython3",
   "version": "3.8.8"
  }
 },
 "nbformat": 4,
 "nbformat_minor": 5
}

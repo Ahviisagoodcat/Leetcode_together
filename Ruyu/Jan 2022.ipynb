{
 "cells": [
  {
   "cell_type": "markdown",
   "id": "f6e3088b",
   "metadata": {},
   "source": [
    "## House Robber 01/02/22"
   ]
  },
  {
   "cell_type": "code",
   "execution_count": null,
   "id": "b9353f0e",
   "metadata": {},
   "outputs": [],
   "source": [
    "class Solution:\n",
    "    def rob(self, nums):\n",
    "        a=b=0\n",
    "        for x in nums:\n",
    "            a,b = b, max(a+x,b)\n",
    "        return b  "
   ]
  }
 ],
 "metadata": {
  "kernelspec": {
   "display_name": "Python 3",
   "language": "python",
   "name": "python3"
  },
  "language_info": {
   "codemirror_mode": {
    "name": "ipython",
    "version": 3
   },
   "file_extension": ".py",
   "mimetype": "text/x-python",
   "name": "python",
   "nbconvert_exporter": "python",
   "pygments_lexer": "ipython3",
   "version": "3.8.8"
  }
 },
 "nbformat": 4,
 "nbformat_minor": 5
}

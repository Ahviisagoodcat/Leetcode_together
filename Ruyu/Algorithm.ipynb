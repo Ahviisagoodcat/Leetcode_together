{
 "cells": [
  {
   "cell_type": "markdown",
   "id": "ec16bd0b",
   "metadata": {},
   "source": [
    "## Two sum 11/05/21\n",
    "Given an array of integers nums and an integer target, return indices of the two numbers such that they add up to target. Time: O(n); Memory: O(n)"
   ]
  },
  {
   "cell_type": "code",
   "execution_count": 1,
   "id": "171122b8",
   "metadata": {},
   "outputs": [],
   "source": [
    "class Solution(object):\n",
    "    def twoSum(self, nums, target):\n",
    "        # nums is a list here, target is int\n",
    "        required={} # An empty dictionary val: index\n",
    "        for i in range(len(nums)):\n",
    "            if target-nums[i] in required:\n",
    "                return [required[target-nums[i]],i]\n",
    "            else:\n",
    "                required[nums[i]]=i"
   ]
  },
  {
   "cell_type": "code",
   "execution_count": 2,
   "id": "154bc166",
   "metadata": {},
   "outputs": [
    {
     "name": "stdout",
     "output_type": "stream",
     "text": [
      "[1, 2]\n"
     ]
    }
   ],
   "source": [
    "### toy example\n",
    "input_list=[2,8,12,15]\n",
    "ob1=Solution()\n",
    "print(ob1.twoSum(input_list,20))"
   ]
  },
  {
   "cell_type": "markdown",
   "id": "76097ffa",
   "metadata": {},
   "source": [
    "## Palindrome Number 11/05/21\n",
    "Determine whether an integer is a palindrome. An integer is a palindrome when it reads the same backward as forward.\n",
    "Follow up: Could you solve it without converting the integer to a string?\n",
    "Time: O(n); space: O(1)\n",
    "Booleans represent one of two values: True or False."
   ]
  },
  {
   "cell_type": "code",
   "execution_count": 3,
   "id": "c3b16c2f",
   "metadata": {},
   "outputs": [],
   "source": [
    "class Solution:\n",
    "    def isPalindrome(self, x):\n",
    "            rev = 0\n",
    "            init_n = x\n",
    "            if x < 0:\n",
    "              return False\n",
    "            while x > 0:\n",
    "                    rev = (rev*10) +  x % 10\n",
    "                    x = x // 10\n",
    "            return rev == init_n"
   ]
  },
  {
   "cell_type": "code",
   "execution_count": 4,
   "id": "39077fdb",
   "metadata": {},
   "outputs": [
    {
     "data": {
      "text/plain": [
       "False"
      ]
     },
     "execution_count": 4,
     "metadata": {},
     "output_type": "execute_result"
    }
   ],
   "source": [
    "ob1=Solution()\n",
    "ob1.isPalindrome(100)"
   ]
  },
  {
   "cell_type": "markdown",
   "id": "5ed138c3",
   "metadata": {},
   "source": [
    "## Reverse Integer 11/05/21 \n",
    "Given a 32-bit signed integer, reverse digits of an integer. negative just add - in the front and treated as positive integer. Follow-up: how to do non-interger reverse?"
   ]
  },
  {
   "cell_type": "code",
   "execution_count": 111,
   "id": "5dbd399e",
   "metadata": {},
   "outputs": [],
   "source": [
    "class Solution:\n",
    "    def reverse(self, x: int) -> int:\n",
    "        sum = 0\n",
    "        temp = abs(x)\n",
    "        while temp>0:\n",
    "            sum = (sum*10) + (temp%10)\n",
    "            temp = temp//10\n",
    "        \n",
    "        if sum >= -(2**31) and sum <= ((2**31)-1):\n",
    "            if x<0:\n",
    "                sum = -1*sum\n",
    "                return sum\n",
    "            else:\n",
    "                return sum\n",
    "        else:\n",
    "            return 0"
   ]
  },
  {
   "cell_type": "code",
   "execution_count": 116,
   "id": "8bebdf17",
   "metadata": {},
   "outputs": [
    {
     "data": {
      "text/plain": [
       "-4321"
      ]
     },
     "execution_count": 116,
     "metadata": {},
     "output_type": "execute_result"
    }
   ],
   "source": [
    "ob1 = Solution()\n",
    "ob1.reverse(-1234)"
   ]
  },
  {
   "cell_type": "markdown",
   "id": "ffeee257",
   "metadata": {},
   "source": [
    "## Roman to Integer python"
   ]
  },
  {
   "cell_type": "code",
   "execution_count": null,
   "id": "5448bcbe",
   "metadata": {},
   "outputs": [],
   "source": []
  },
  {
   "cell_type": "code",
   "execution_count": null,
   "id": "94aec3eb",
   "metadata": {},
   "outputs": [],
   "source": []
  }
 ],
 "metadata": {
  "kernelspec": {
   "display_name": "p37",
   "language": "python",
   "name": "p37"
  },
  "language_info": {
   "codemirror_mode": {
    "name": "ipython",
    "version": 3
   },
   "file_extension": ".py",
   "mimetype": "text/x-python",
   "name": "python",
   "nbconvert_exporter": "python",
   "pygments_lexer": "ipython3",
   "version": "3.7.11"
  }
 },
 "nbformat": 4,
 "nbformat_minor": 5
}

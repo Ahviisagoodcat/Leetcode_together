{
 "cells": [
  {
   "cell_type": "markdown",
   "id": "6690f5bc",
   "metadata": {},
   "source": [
    "## Reverse Linked List 12/01/21 \n",
    "Given the head of a singly linked list, reverse the list, and return the reversed list. Time O(n) spcae O(1)"
   ]
  },
  {
   "cell_type": "code",
   "execution_count": 3,
   "id": "33712d3f",
   "metadata": {},
   "outputs": [],
   "source": [
    "# Definition for singly-linked list.\n",
    "# class ListNode:\n",
    "#     def __init__(self, val=0, next=None):\n",
    "#         self.val = val\n",
    "#         self.next = next\n",
    "class Solution:\n",
    "    def reverseList(self, head):\n",
    "        cur = head\n",
    "        prev = None\n",
    "        while cur:\n",
    "            n = cur.next\n",
    "            cur.next = prev\n",
    "            prev = cur\n",
    "            cur = n\n",
    "        return prev"
   ]
  },
  {
   "cell_type": "markdown",
   "id": "5cb467f1",
   "metadata": {},
   "source": [
    "## Contains Duplicate 12/01/21\n",
    "Given an integer array nums, return true if any value appears at least twice in the array, and return false if every element is distinct."
   ]
  },
  {
   "cell_type": "code",
   "execution_count": 4,
   "id": "0f6deaf1",
   "metadata": {},
   "outputs": [],
   "source": [
    "class Solution:\n",
    "    def containsDuplicate(self, nums):\n",
    "        return len(set(nums))!=len(nums)"
   ]
  },
  {
   "cell_type": "markdown",
   "id": "3ac0c4e7",
   "metadata": {},
   "source": [
    "## Contains Duplicate II 12/02/21\n",
    "Given an integer array nums and an integer k, return true if there are two distinct indices i and j in the array such that nums[i] == nums[j] and abs(i - j) <= k."
   ]
  },
  {
   "cell_type": "code",
   "execution_count": 2,
   "id": "be40e9cb",
   "metadata": {},
   "outputs": [],
   "source": [
    "class Solution:\n",
    "    def containsNearbyDuplicate(self, nums, k):\n",
    "        index = {}\n",
    "        for i, n in enumerate(nums):\n",
    "            if n in index and i-index[n]<=k:\n",
    "                return True\n",
    "            index[n]=i\n",
    "        return False"
   ]
  },
  {
   "cell_type": "markdown",
   "id": "44b07ff5",
   "metadata": {},
   "source": [
    "## Implement Stack using Queues 12/03/21\n",
    "Implement a last-in-first-out (LIFO) stack using only two queues. The implemented stack should support all the functions of a normal stack (push, top, pop, and empty)"
   ]
  },
  {
   "cell_type": "code",
   "execution_count": 1,
   "id": "9e769c3e",
   "metadata": {},
   "outputs": [],
   "source": [
    "class MyStack:\n",
    "\n",
    "    def __init__(self):\n",
    "        self.queue=deque()\n",
    "\n",
    "    def push(self, x: int):\n",
    "        self.queue.append(x)\n",
    "        for i in range(len(self.queue)-1):\n",
    "            self.queue.append(self.queue.popleft())\n",
    "\n",
    "    def pop(self):\n",
    "        return self.queue.popleft()\n",
    "\n",
    "    def top(self):\n",
    "        return self.queue[0]\n",
    "\n",
    "    def empty(self):\n",
    "        return len(self.queue)==0\n",
    "\n",
    "\n",
    "# Your MyStack object will be instantiated and called as such:\n",
    "# obj = MyStack()\n",
    "# obj.push(x)\n",
    "# param_2 = obj.pop()\n",
    "# param_3 = obj.top()\n",
    "# param_4 = obj.empty()"
   ]
  },
  {
   "cell_type": "markdown",
   "id": "1e2f92ab",
   "metadata": {},
   "source": [
    "##  Invert Binary Tree 12/04/21\n",
    "Given the root of a binary tree, invert the tree, and return its root."
   ]
  },
  {
   "cell_type": "code",
   "execution_count": 3,
   "id": "c9d48988",
   "metadata": {},
   "outputs": [],
   "source": [
    "# Definition for a binary tree node.\n",
    "# class TreeNode:\n",
    "#     def __init__(self, val=0, left=None, right=None):\n",
    "#         self.val = val\n",
    "#         self.left = left\n",
    "#         self.right = right\n",
    "## recursive\n",
    "class Solution:\n",
    "    def invertTree(self, root):\n",
    "        if root:\n",
    "            invert = self.invertTree\n",
    "            root.left, root.right = invert(root.right), invert(root.left)\n",
    "            return root\n",
    "        "
   ]
  },
  {
   "cell_type": "code",
   "execution_count": 4,
   "id": "cf6720d3",
   "metadata": {},
   "outputs": [],
   "source": [
    "### use stack:\n",
    "class Solution:\n",
    "    def invertTree(self, root):\n",
    "        stack = [root]\n",
    "        while stack:\n",
    "            node = stack.pop()\n",
    "            if node:\n",
    "                node.left, node.right = node.right, node.left\n",
    "                stack+=node.left,node.right\n",
    "        return root"
   ]
  },
  {
   "cell_type": "markdown",
   "id": "54fcab44",
   "metadata": {},
   "source": [
    "## Power of two 12/05/21\n",
    "Given an integer n, return true if it is a power of two. Otherwise, return false."
   ]
  },
  {
   "cell_type": "code",
   "execution_count": null,
   "id": "a36492d2",
   "metadata": {},
   "outputs": [],
   "source": [
    "class Solution:## time O(logN)\n",
    "    def isPowerOfTwo(self, n):\n",
    "        if n==0:\n",
    "            return False\n",
    "        while n%2==0:\n",
    "            n=n/2\n",
    "        return n==1"
   ]
  },
  {
   "cell_type": "code",
   "execution_count": 2,
   "id": "fabedac6",
   "metadata": {},
   "outputs": [],
   "source": [
    "class Solution: # time O(1) space O(1)\n",
    "    def isPowerOfTwo(self, n):\n",
    "        if n==0:\n",
    "            return False\n",
    "        return n&(-n)==n"
   ]
  },
  {
   "cell_type": "markdown",
   "id": "4441be8c",
   "metadata": {},
   "source": [
    "## Palindrome Linked List 12/05/21\n",
    "Given the head of a singly linked list, return true if it is a palindrome"
   ]
  },
  {
   "cell_type": "code",
   "execution_count": 1,
   "id": "ca05d425",
   "metadata": {},
   "outputs": [],
   "source": [
    "# Definition for singly-linked list.\n",
    "# class ListNode:\n",
    "#     def __init__(self, val=0, next=None):\n",
    "#         self.val = val\n",
    "#         self.next = next\n",
    "class Solution: ## two pointer\n",
    "    def isPalindrome(self, head):\n",
    "        vals=[]\n",
    "        current_node=head\n",
    "        while current_node is not None:\n",
    "            vals.append(current_node.val)\n",
    "            current_node = current_node.next\n",
    "        return vals==vals[::-1]       "
   ]
  },
  {
   "cell_type": "markdown",
   "id": "3d2d08e7",
   "metadata": {},
   "source": [
    "## Implement Queue using stacks 12/06/21"
   ]
  },
  {
   "cell_type": "code",
   "execution_count": 1,
   "id": "6bcec63d",
   "metadata": {},
   "outputs": [],
   "source": [
    "class MyQueue:\n",
    "\n",
    "    def __init__(self):\n",
    "        self.s1=[]\n",
    "        self.s2=[]\n",
    "\n",
    "    def push(self, x):\n",
    "        while self.s1:\n",
    "            self.s2.append(self.s1.pop())\n",
    "        self.s1.append(x)\n",
    "        while self.s2:\n",
    "            self.s1.append(self.s2.pop())\n",
    "\n",
    "    def pop(self):\n",
    "        return self.s1.pop()\n",
    "\n",
    "    def peek(self):\n",
    "        return self.s1[-1]\n",
    "\n",
    "    def empty(self):\n",
    "        return not self.s1\n",
    "\n"
   ]
  },
  {
   "cell_type": "markdown",
   "id": "c274b4a7",
   "metadata": {},
   "source": [
    "## Lowest Common Ancestor of a Binary Search Tree 12/07/21\n",
    "Given a binary search tree (BST), find the lowest common ancestor (LCA) of two given nodes in the BST."
   ]
  },
  {
   "cell_type": "code",
   "execution_count": 3,
   "id": "89797326",
   "metadata": {},
   "outputs": [],
   "source": [
    "# Definition for a binary tree node.\n",
    "# class TreeNode:\n",
    "#     def __init__(self, x):\n",
    "#         self.val = x\n",
    "#         self.left = None\n",
    "#         self.right = None\n",
    "\n",
    "class Solution:## O(N), O(N)\n",
    "    def lowestCommonAncestor(self, root, p, q):\n",
    "        parent_val = root.val\n",
    "        p_val=p.val\n",
    "        q_val=q.val\n",
    "        if p_val>parent_val and q_val >parent_val:\n",
    "            return self.lowestCommonAncestor(root.right, p, q)\n",
    "        elif p_val < parent_val and q_val < parent_val:\n",
    "            return self.lowestCommonAncestor(root.left, p, q)\n",
    "        else:\n",
    "            return root        "
   ]
  },
  {
   "cell_type": "markdown",
   "id": "9c13de6a",
   "metadata": {},
   "source": [
    "## Delete Node in a Linked List 12/08/21\n",
    "Write a function to delete a node in a singly-linked list. You will not be given access to the head of the list, instead you will be given access to the node to be deleted directly.\n",
    "We can't really delete the node, but we can kinda achieve the same effect by instead removing the next node after copying its data into the node that we were asked to delete."
   ]
  },
  {
   "cell_type": "code",
   "execution_count": 1,
   "id": "21a07758",
   "metadata": {},
   "outputs": [],
   "source": [
    "# Definition for singly-linked list.\n",
    "# class ListNode:\n",
    "#     def __init__(self, x):\n",
    "#         self.val = x\n",
    "#         self.next = None\n",
    "\n",
    "class Solution:\n",
    "    def deleteNode(self, node):\n",
    "        \"\"\"\n",
    "        :type node: ListNode\n",
    "        :rtype: void Do not return anything, modify node in-place instead.\n",
    "        \"\"\"\n",
    "        node.val=node.next.val\n",
    "        node.next =node.next.next\n",
    "        "
   ]
  },
  {
   "cell_type": "markdown",
   "id": "1de13017",
   "metadata": {},
   "source": [
    "## Valid Anagram 12/08/21\n",
    "Given two strings s and t, return true if t is an anagram of s, and false otherwise."
   ]
  },
  {
   "cell_type": "code",
   "execution_count": 2,
   "id": "2bbccb5e",
   "metadata": {},
   "outputs": [],
   "source": [
    "class Solution:## sorted\n",
    "    def isAnagram(self, s, t):\n",
    "        return sorted(s)==sorted(t)"
   ]
  },
  {
   "cell_type": "code",
   "execution_count": 3,
   "id": "5278f579",
   "metadata": {},
   "outputs": [],
   "source": [
    "class Solution:## dictionary\n",
    "    def isAnagram(self, s, t):\n",
    "        dic1, dic2 = [0]*26,[0]*26\n",
    "        for item in s:\n",
    "            dic1[ord(item)-ord('a')]+=1\n",
    "        for item in t:\n",
    "            dic2[ord(item)-ord('a')]+=1\n",
    "        return dic1==dic2\n",
    "  "
   ]
  },
  {
   "cell_type": "markdown",
   "id": "15eb3bac",
   "metadata": {},
   "source": [
    "## Shortest Word Distance 12/09/21\n",
    "Given an array of strings wordsDict and two different strings that already exist in the array word1 and word2, return the shortest distance between these two words in the list."
   ]
  },
  {
   "cell_type": "code",
   "execution_count": 1,
   "id": "bb5a10ba",
   "metadata": {},
   "outputs": [],
   "source": [
    "class Solution:\n",
    "    def shortestDistance(self, wordsDict, word1, word2):\n",
    "        p1=p2=-1\n",
    "        min_d = len(wordsDict)\n",
    "        for i, w in enumerate(wordsDict):\n",
    "            if w ==word1:\n",
    "                p1=i\n",
    "            if w==word2:\n",
    "                p2=i\n",
    "            if -1 not in (p1,p2):\n",
    "                min_d = min(min_d, abs(p1-p2))\n",
    "        return min_d  "
   ]
  },
  {
   "cell_type": "markdown",
   "id": "9e0af1d5",
   "metadata": {},
   "source": [
    "## Strobogrammatic Number 12/10/21\n",
    "Given a string num which represents an integer, return true if num is a strobogrammatic number.\n",
    "A strobogrammatic number is a number that looks the same when rotated 180 degrees (looked at upside down)."
   ]
  },
  {
   "cell_type": "code",
   "execution_count": 1,
   "id": "fc394ce9",
   "metadata": {},
   "outputs": [],
   "source": [
    "class Solution:\n",
    "    def isStrobogrammatic(self, num):\n",
    "        rotated={'0': '0', '1': '1', '8': '8', '6': '9', '9': '6'}\n",
    "        rotated_string_builder=[]\n",
    "        \n",
    "        for c in reversed(num):\n",
    "            if c not in rotated:\n",
    "                return False\n",
    "            rotated_string_builder.append(rotated[c])\n",
    "        \n",
    "        rotated_string =\"\".join(rotated_string_builder)\n",
    "        return rotated_string == num\n",
    "        "
   ]
  },
  {
   "cell_type": "code",
   "execution_count": 2,
   "id": "8292cebd",
   "metadata": {},
   "outputs": [],
   "source": [
    "class Solution:\n",
    "    def isStrobogrammatic(self, num: str) -> bool:\n",
    "        return (set(num) & {'2', '3', '4', '5', '7'} == set()) and num == num[::-1].translate(str.maketrans('69', '96'))"
   ]
  },
  {
   "cell_type": "markdown",
   "id": "949e7f74",
   "metadata": {},
   "source": [
    "## Meeting Rooms 12/11/21\n",
    "Given an array of meeting time intervals where intervals[i] = [starti, endi], determine if a person could attend all meetings."
   ]
  },
  {
   "cell_type": "code",
   "execution_count": null,
   "id": "555c2de8",
   "metadata": {},
   "outputs": [],
   "source": [
    "class Solution:\n",
    "    def canAttendMeetings(self, intervals):\n",
    "        intervals.sort()#or intervals=sorted(intervals)\n",
    "        for i in range(len(intervals)-1):\n",
    "            if intervals[i][1]>intervals[i+1][0]:\n",
    "                return False\n",
    "        return True\n",
    "        "
   ]
  },
  {
   "cell_type": "code",
   "execution_count": null,
   "id": "749c1345",
   "metadata": {},
   "outputs": [],
   "source": [
    "class Solution:\n",
    "    def canAttendMeetings(self, intervals: List[List[int]]) -> bool:\n",
    "        def overlap(interval1: List[int], interval2: List[int]) -> bool:\n",
    "            return (interval1[0] >= interval2[0] and interval1[0] < interval2[1]\n",
    "                or interval2[0] >= interval1[0] and interval2[0] < interval1[1])\n",
    "\n",
    "        for i in range(len(intervals)):\n",
    "            for j in range(i + 1, len(intervals)):\n",
    "                if overlap(intervals[i], intervals[j]):\n",
    "                    return False\n",
    "        return True"
   ]
  }
 ],
 "metadata": {
  "kernelspec": {
   "display_name": "Python 3",
   "language": "python",
   "name": "python3"
  },
  "language_info": {
   "codemirror_mode": {
    "name": "ipython",
    "version": 3
   },
   "file_extension": ".py",
   "mimetype": "text/x-python",
   "name": "python",
   "nbconvert_exporter": "python",
   "pygments_lexer": "ipython3",
   "version": "3.8.8"
  }
 },
 "nbformat": 4,
 "nbformat_minor": 5
}

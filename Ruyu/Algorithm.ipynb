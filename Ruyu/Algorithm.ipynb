{
 "cells": [
  {
   "cell_type": "markdown",
   "id": "ec16bd0b",
   "metadata": {},
   "source": [
    "## Two sum 11/05/21\n",
    "Given an array of integers nums and an integer target, return indices of the two numbers such that they add up to target. Time: O(n); Memory: O(n)"
   ]
  },
  {
   "cell_type": "code",
   "execution_count": 1,
   "id": "171122b8",
   "metadata": {},
   "outputs": [],
   "source": [
    "class Solution(object):\n",
    "    def twoSum(self, nums, target):\n",
    "        # nums is a list here, target is int\n",
    "        required={} # An empty dictionary val: index\n",
    "        for i in range(len(nums)):\n",
    "            if target-nums[i] in required:\n",
    "                return [required[target-nums[i]],i]\n",
    "            else:\n",
    "                required[nums[i]]=i"
   ]
  },
  {
   "cell_type": "code",
   "execution_count": 2,
   "id": "154bc166",
   "metadata": {},
   "outputs": [
    {
     "name": "stdout",
     "output_type": "stream",
     "text": [
      "[1, 2]\n"
     ]
    }
   ],
   "source": [
    "### toy example\n",
    "input_list=[2,8,12,15]\n",
    "ob1=Solution()\n",
    "print(ob1.twoSum(input_list,20))"
   ]
  },
  {
   "cell_type": "markdown",
   "id": "76097ffa",
   "metadata": {},
   "source": [
    "## Palindrome Number 11/05/21\n",
    "Determine whether an integer is a palindrome. An integer is a palindrome when it reads the same backward as forward.\n",
    "Follow up: Could you solve it without converting the integer to a string?\n",
    "Time: O(n); space: O(1)\n",
    "Booleans represent one of two values: True or False."
   ]
  },
  {
   "cell_type": "code",
   "execution_count": 3,
   "id": "c3b16c2f",
   "metadata": {},
   "outputs": [],
   "source": [
    "class Solution:\n",
    "    def isPalindrome(self, x):\n",
    "            rev = 0\n",
    "            init_n = x\n",
    "            if x < 0:\n",
    "              return False\n",
    "            while x > 0:\n",
    "                    rev = (rev*10) +  x % 10\n",
    "                    x = x // 10\n",
    "            return rev == init_n"
   ]
  },
  {
   "cell_type": "code",
   "execution_count": 4,
   "id": "39077fdb",
   "metadata": {},
   "outputs": [
    {
     "data": {
      "text/plain": [
       "False"
      ]
     },
     "execution_count": 4,
     "metadata": {},
     "output_type": "execute_result"
    }
   ],
   "source": [
    "ob1=Solution()\n",
    "ob1.isPalindrome(100)"
   ]
  },
  {
   "cell_type": "markdown",
   "id": "5ed138c3",
   "metadata": {},
   "source": [
    "## Reverse Integer 11/05/21 \n",
    "Given a 32-bit signed integer, reverse digits of an integer. negative just add - in the front and treated as positive integer. Follow-up: how to do non-interger reverse?"
   ]
  },
  {
   "cell_type": "code",
   "execution_count": 111,
   "id": "5dbd399e",
   "metadata": {},
   "outputs": [],
   "source": [
    "class Solution:\n",
    "    def reverse(self, x: int) -> int:\n",
    "        sum = 0\n",
    "        temp = abs(x)\n",
    "        while temp>0:\n",
    "            sum = (sum*10) + (temp%10)\n",
    "            temp = temp//10\n",
    "        \n",
    "        if sum >= -(2**31) and sum <= ((2**31)-1):\n",
    "            if x<0:\n",
    "                sum = -1*sum\n",
    "                return sum\n",
    "            else:\n",
    "                return sum\n",
    "        else:\n",
    "            return 0"
   ]
  },
  {
   "cell_type": "code",
   "execution_count": 116,
   "id": "8bebdf17",
   "metadata": {},
   "outputs": [
    {
     "data": {
      "text/plain": [
       "-4321"
      ]
     },
     "execution_count": 116,
     "metadata": {},
     "output_type": "execute_result"
    }
   ],
   "source": [
    "ob1 = Solution()\n",
    "ob1.reverse(-1234)"
   ]
  },
  {
   "cell_type": "markdown",
   "id": "ffeee257",
   "metadata": {},
   "source": [
    "## Roman to Integer python 11/06/21\n",
    "I 1,V  5, X 10, L 50, C 100, D 500, M 1000 change string to number \n",
    "if some substring is present in the table, then take its value into result, then check for the next, for next match, it adds the value with the result, finally forms the number."
   ]
  },
  {
   "cell_type": "code",
   "execution_count": 121,
   "id": "5448bcbe",
   "metadata": {},
   "outputs": [],
   "source": [
    "class Solution:\n",
    "    def romanToInt(self, s: str):\n",
    "        roman ={'I':1,'V':5,'X':10,'L':50,'C':100,'D':500,'M':1000,'IV':4,'IX':9,'XL':40,'XC':90,'CD':400,'CM':900}\n",
    "        i=0\n",
    "        num=0\n",
    "        while i<len(s):\n",
    "            #print(i)\n",
    "            if i+1<len(s) and s[i:i+2] in roman:\n",
    "                num=num+roman[s[i:i+2]]\n",
    "                i=i+2\n",
    "            else:\n",
    "                num=num+roman[s[i]]\n",
    "                i=i+1\n",
    "        return num"
   ]
  },
  {
   "cell_type": "code",
   "execution_count": 122,
   "id": "94aec3eb",
   "metadata": {},
   "outputs": [
    {
     "name": "stdout",
     "output_type": "stream",
     "text": [
      "0\n",
      "2\n",
      "4\n"
     ]
    },
    {
     "data": {
      "text/plain": [
       "1340"
      ]
     },
     "execution_count": 122,
     "metadata": {},
     "output_type": "execute_result"
    }
   ],
   "source": [
    "ob=Solution()\n",
    "ob.romanToInt('CMCDXL')"
   ]
  },
  {
   "cell_type": "markdown",
   "id": "eef84f6f",
   "metadata": {},
   "source": [
    "## Longest Common Prefix 11/06/21\n",
    "Write a function to find the longest common prefix string amongst an array of strings. If there is no common prefix, return an empty string \"\"."
   ]
  },
  {
   "cell_type": "code",
   "execution_count": 153,
   "id": "47ae0ab3",
   "metadata": {},
   "outputs": [],
   "source": [
    "class Solution:\n",
    "    def longestCommonPrefix(self, strs):\n",
    "        if not strs: return \"\"\n",
    "        s1=min(strs)\n",
    "        s2=max(strs)\n",
    "        for i, c in enumerate(s1):\n",
    "            if c != s2[i]:\n",
    "                return s1[:i]\n",
    "        return s1"
   ]
  },
  {
   "cell_type": "code",
   "execution_count": 154,
   "id": "a792404f",
   "metadata": {},
   "outputs": [
    {
     "data": {
      "text/plain": [
       "''"
      ]
     },
     "execution_count": 154,
     "metadata": {},
     "output_type": "execute_result"
    }
   ],
   "source": [
    "ob=Solution()\n",
    "ob.longestCommonPrefix([\"hello\",\"whhhh\",\"hoo\",\"fhhhhh\"])"
   ]
  },
  {
   "cell_type": "markdown",
   "id": "a166aa60",
   "metadata": {},
   "source": [
    "## Valid Parentheses  11/06/21\n",
    "An input string is valid if:\n",
    "\n",
    "Open brackets must be closed by the same type of brackets.\n",
    "Open brackets must be closed in the correct order.\n",
    "replace valid parentheses with '' just need to check the length in the end"
   ]
  },
  {
   "cell_type": "code",
   "execution_count": 165,
   "id": "ce595dc8",
   "metadata": {},
   "outputs": [],
   "source": [
    "class Solution:\n",
    "    def isValid(self, s):\n",
    "        n = len(s)\n",
    "        if n==0:\n",
    "            return True\n",
    "        if n%2!=0:\n",
    "            return False\n",
    "        while '()' in s or '{}' in s or '[]' in s:\n",
    "            s=s.replace('()','').replace('{}','').replace('[]','')\n",
    "        return len(s)==0"
   ]
  },
  {
   "cell_type": "code",
   "execution_count": 166,
   "id": "bd762f56",
   "metadata": {},
   "outputs": [
    {
     "data": {
      "text/plain": [
       "False"
      ]
     },
     "execution_count": 166,
     "metadata": {},
     "output_type": "execute_result"
    }
   ],
   "source": [
    "ob=Solution()\n",
    "ob.isValid(['([)]'])"
   ]
  },
  {
   "cell_type": "markdown",
   "id": "c7162dbb",
   "metadata": {},
   "source": [
    "## Merge Two Sorted Lists to a sorted list 11/07/21\n",
    "Merge two sorted linked lists and return it as a sorted list. The list should be made by splicing together the nodes of the first two lists. Doing in a recursive way\n",
    "Def: A linked list is a linear collection of data elements whose order is not given by their physical placement in memory. Instead, each element points to the next.\n",
    "time: O(n + m)"
   ]
  },
  {
   "cell_type": "code",
   "execution_count": 169,
   "id": "e48309f5",
   "metadata": {},
   "outputs": [],
   "source": [
    "#### hahhaha no extend here\n",
    "class Solution:\n",
    "    def mergeTwoLists(self, l1, l2):\n",
    "        a=l1.extend(l2)\n",
    "        return sorted(a)"
   ]
  },
  {
   "cell_type": "code",
   "execution_count": 170,
   "id": "5a71d720",
   "metadata": {},
   "outputs": [],
   "source": [
    "class ListNode:\n",
    "    def __init__(self, val, next=None):\n",
    "        self.val = val\n",
    "        self.next = next\n",
    "class Solution:\n",
    "    def mergeTwoLists(self, l1, l2):\n",
    "        if l2 is None:\n",
    "            return l1\n",
    "        if l1 is None:\n",
    "            return l2\n",
    "        elif l1.val<l2.val:\n",
    "            l1.next = self.mergeTwoLists(l1.next,l2)\n",
    "            return l1\n",
    "        else:\n",
    "            l2.next = self.mergeTwoLists(l1,l2.next)\n",
    "            return l2"
   ]
  },
  {
   "cell_type": "markdown",
   "id": "d999e6e7",
   "metadata": {},
   "source": [
    "## Remove Duplicates from Sorted Array 11/07/21 two-pointer\n",
    "Given an integer array nums sorted in non-decreasing order, remove the duplicates in-place such that each unique element appears only once. The relative order of the elements should be kept the same. Time: O(n), space: O(1)"
   ]
  },
  {
   "cell_type": "code",
   "execution_count": 173,
   "id": "081a610a",
   "metadata": {},
   "outputs": [],
   "source": [
    "class Solution:\n",
    "    def removeDuplicates(self, nums):\n",
    "        if len(nums)==0:\n",
    "            return 0\n",
    "        res = 1\n",
    "        for i in range(1, len(nums)):\n",
    "            if nums[i] != nums[i-1]:\n",
    "                nums[res]=nums[i]\n",
    "                res = res+1\n",
    "        return res\n",
    "            "
   ]
  },
  {
   "cell_type": "markdown",
   "id": "e6531f60",
   "metadata": {},
   "source": [
    "## Remove Element 11/07/21 two-pointer again!\n",
    "Given an integer array nums and an integer val, remove all occurrences of val in nums in-place. The relative order of the elements may be changed."
   ]
  },
  {
   "cell_type": "code",
   "execution_count": 174,
   "id": "8f594af1",
   "metadata": {},
   "outputs": [],
   "source": [
    "class Solution:\n",
    "    def removeElement(self, nums, val):\n",
    "        if len(nums)==0:\n",
    "            return 0\n",
    "        res = 0\n",
    "        for i in range(len(nums)):\n",
    "            if nums[i]!=val:\n",
    "                nums[res]=nums[i]\n",
    "                res = res+1\n",
    "        return res"
   ]
  },
  {
   "cell_type": "markdown",
   "id": "2306da40",
   "metadata": {},
   "source": [
    "## Implement strStr() string matching & two-pointer 11/07/21\n",
    "Return the index of the first occurrence of needle in haystack, or -1 if needle is not part of haystack.\n",
    "we will return 0 when needle is an empty string."
   ]
  },
  {
   "cell_type": "code",
   "execution_count": 190,
   "id": "fd04b134",
   "metadata": {},
   "outputs": [],
   "source": [
    "class Solution:\n",
    "    def strStr(self, haystack, needle):\n",
    "        if needle=='':\n",
    "            return 0\n",
    "        for i in range(len(haystack)-len(needle)+1):\n",
    "            if haystack[i:(i+len(needle))]==needle:\n",
    "                return i # return index here\n",
    "        return -1"
   ]
  },
  {
   "cell_type": "code",
   "execution_count": 191,
   "id": "900ef35c",
   "metadata": {},
   "outputs": [
    {
     "data": {
      "text/plain": [
       "0"
      ]
     },
     "execution_count": 191,
     "metadata": {},
     "output_type": "execute_result"
    }
   ],
   "source": [
    "ob = Solution()\n",
    "ob.strStr('a','a')"
   ]
  },
  {
   "cell_type": "markdown",
   "id": "27189257",
   "metadata": {},
   "source": [
    "## Search Insert Position Binary search 11/08/21\n",
    "Given a sorted array of distinct integers and a target value, return the index if the target is found. If not, return the index where it would be if it were inserted in order. You must write an algorithm with O(log n) runtime complexity"
   ]
  },
  {
   "cell_type": "code",
   "execution_count": 192,
   "id": "612c7e53",
   "metadata": {},
   "outputs": [],
   "source": [
    "## only work for no duplicated\n",
    "class Solution:\n",
    "    def searchInsert(self, nums, target):\n",
    "        if len(nums)==0:\n",
    "            return 0\n",
    "        \n",
    "        left, right = 0, len(nums)-1\n",
    "        while (left <= right):\n",
    "            mid=(left+right)//2\n",
    "            if nums[mid]==target:\n",
    "                return mid\n",
    "            if nums[mid]>target:\n",
    "                right =mid-1\n",
    "            else: left = mid +1\n",
    "        return left      "
   ]
  },
  {
   "cell_type": "code",
   "execution_count": 193,
   "id": "e21a1ade",
   "metadata": {},
   "outputs": [],
   "source": [
    "class Solution:\n",
    "    def searchInsert(self, nums, target):\n",
    "        if len(nums)==0:\n",
    "            return 0\n",
    "        \n",
    "        left, right = 0, len(nums)-1\n",
    "        while (left <= right):\n",
    "            mid=(left+right)//2\n",
    "            if nums[mid]<target:\n",
    "                left=mid+1\n",
    "            else: \n",
    "                if nums[mid]==target and nums[mid-1]!=target:\n",
    "                    return mid\n",
    "                else: right=mid-1\n",
    "        return left      "
   ]
  },
  {
   "cell_type": "markdown",
   "id": "e76fdd8e",
   "metadata": {},
   "source": [
    "### Maximum Subarray 11/08/21\n",
    "Given an integer array nums, find the contiguous subarray (containing at least one number) which has the largest sum and return its sum. A subarray is a contiguous part of an array."
   ]
  },
  {
   "cell_type": "code",
   "execution_count": 196,
   "id": "b86473e1",
   "metadata": {},
   "outputs": [],
   "source": [
    "### time is too long\n",
    "import math\n",
    "class Solution:\n",
    "    def maxSubArray(self, nums):\n",
    "        max_sub = -math.inf\n",
    "        for i in range(len(nums)):\n",
    "            current_sub = 0\n",
    "            for j in range(i, len(nums)):\n",
    "                current_sub = current_sub + nums[j]\n",
    "                max_sub = max(current_sub, max_sub)\n",
    "                \n",
    "        return max_sub # time O(n^2) space O(1)"
   ]
  },
  {
   "cell_type": "code",
   "execution_count": 202,
   "id": "1474456f",
   "metadata": {},
   "outputs": [],
   "source": [
    "### DP\n",
    "class Solution:\n",
    "    def maxSubArray(self, nums):\n",
    "        dp=[0]*len(nums)\n",
    "        for i, num in enumerate(nums):\n",
    "            dp[i]=max(dp[i-1]+num,num)\n",
    "        return max(dp) # time O(n)  space O(n)"
   ]
  },
  {
   "cell_type": "code",
   "execution_count": 203,
   "id": "99bf8f21",
   "metadata": {},
   "outputs": [],
   "source": [
    "# time O(n)  space O(1)\n",
    "class Solution:\n",
    "    def maxSubArray(self, nums):\n",
    "        current_sub = max_sub = nums[0]\n",
    "        for num in nums[1:]:\n",
    "            current_sub = max(num, current_sub+num)\n",
    "            max_sub = max(max_sub, current_sub)\n",
    "        return max_sub       "
   ]
  },
  {
   "cell_type": "markdown",
   "id": "47c6254b",
   "metadata": {},
   "source": [
    "## Length of Last Word 11/08/21\n",
    "Given a string s consisting of some words separated by some number of spaces, return the length of the last word in the string. Time: O(N) space: O(1)"
   ]
  },
  {
   "cell_type": "code",
   "execution_count": null,
   "id": "5937d0e9",
   "metadata": {},
   "outputs": [],
   "source": [
    "class Solution:\n",
    "    def lengthOfLastWord(self, s):\n",
    "        p=len(s)-1\n",
    "        while p>=0 and s[p]==' ':\n",
    "            p=p-1\n",
    "            \n",
    "        length=0\n",
    "        while p>=0 and s[p]!=' ':\n",
    "            p=p-1\n",
    "            length=length+1\n",
    "        return length"
   ]
  },
  {
   "cell_type": "markdown",
   "id": "efcbdf33",
   "metadata": {},
   "source": [
    "## Plus one\n",
    "You are given a large integer represented as an integer array digits, where each digits[i] is the ith digit of the integer. The digits are ordered from most significant to least significant in left-to-right order. The large integer does not contain any leading 0's.\n",
    "\n",
    "Increment the large integer by one and return the resulting array of digits."
   ]
  },
  {
   "cell_type": "code",
   "execution_count": 206,
   "id": "460f79dc",
   "metadata": {},
   "outputs": [],
   "source": [
    "class Solution:\n",
    "    def plusOne(self, digits):\n",
    "        length = len(digits)-1\n",
    "        while digits[length]==9:\n",
    "            digits[length]=0\n",
    "            lengt-=1\n",
    "        if(length<0):\n",
    "            digits=[1]+digits\n",
    "        else:\n",
    "            digits[length]+=1\n",
    "        return digits      "
   ]
  },
  {
   "cell_type": "code",
   "execution_count": null,
   "id": "9ea03096",
   "metadata": {},
   "outputs": [],
   "source": []
  }
 ],
 "metadata": {
  "kernelspec": {
   "display_name": "p37",
   "language": "python",
   "name": "p37"
  },
  "language_info": {
   "codemirror_mode": {
    "name": "ipython",
    "version": 3
   },
   "file_extension": ".py",
   "mimetype": "text/x-python",
   "name": "python",
   "nbconvert_exporter": "python",
   "pygments_lexer": "ipython3",
   "version": "3.7.11"
  }
 },
 "nbformat": 4,
 "nbformat_minor": 5
}

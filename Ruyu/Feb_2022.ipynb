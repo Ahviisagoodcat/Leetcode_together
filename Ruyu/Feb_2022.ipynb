{
 "cells": [
  {
   "cell_type": "markdown",
   "id": "d3ccf431",
   "metadata": {},
   "source": [
    "## Valid Palindrome II 02/01/22"
   ]
  },
  {
   "cell_type": "code",
   "execution_count": 1,
   "id": "faebf837",
   "metadata": {},
   "outputs": [],
   "source": [
    "class Solution(object):#two-pointer \n",
    "    def validPalindrome(self, s):\n",
    "        \"\"\"\n",
    "        :type s: str\n",
    "        :rtype: bool\n",
    "        \"\"\"\n",
    "        # Time: O(n)\n",
    "        # Space: O(n)\n",
    "        left, right = 0, len(s)-1\n",
    "        while left<right:\n",
    "            if s[left]!=s[right]:\n",
    "                one, two = s[left:right], s[left+1:right+1]\n",
    "                return one==one[::-1] or two == two[::-1]\n",
    "            left,right=left+1,right-1\n",
    "        return True"
   ]
  },
  {
   "cell_type": "markdown",
   "id": "9acf2b72",
   "metadata": {},
   "source": [
    "## Fizz Buzz 02/02/22"
   ]
  },
  {
   "cell_type": "code",
   "execution_count": null,
   "id": "4ba93f31",
   "metadata": {},
   "outputs": [],
   "source": [
    "class Solution:\n",
    "    def fizzBuzz(self, n: int) -> List[str]:\n",
    "        ans=[]\n",
    "        for num in range(1,n+1):\n",
    "            div_by_3 = (num%3==0)\n",
    "            div_by_5 = (num%5==0)\n",
    "            if div_by_3 and div_by_5:\n",
    "                ans.append(\"FizzBuzz\")\n",
    "            elif div_by_3:\n",
    "                ans.append(\"Fizz\")\n",
    "            elif div_by_5:\n",
    "                ans.append('Buzz')\n",
    "            else: ans.append(str(num))\n",
    "        return ans\n",
    "  "
   ]
  }
 ],
 "metadata": {
  "kernelspec": {
   "display_name": "Python 3",
   "language": "python",
   "name": "python3"
  },
  "language_info": {
   "codemirror_mode": {
    "name": "ipython",
    "version": 3
   },
   "file_extension": ".py",
   "mimetype": "text/x-python",
   "name": "python",
   "nbconvert_exporter": "python",
   "pygments_lexer": "ipython3",
   "version": "3.8.8"
  }
 },
 "nbformat": 4,
 "nbformat_minor": 5
}

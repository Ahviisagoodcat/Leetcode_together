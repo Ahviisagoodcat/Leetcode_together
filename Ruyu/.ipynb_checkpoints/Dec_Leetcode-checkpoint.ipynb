{
 "cells": [
  {
   "cell_type": "markdown",
   "id": "6690f5bc",
   "metadata": {},
   "source": [
    "## Reverse Linked List 12/01/21 \n",
    "Given the head of a singly linked list, reverse the list, and return the reversed list. Time O(n) spcae O(1)"
   ]
  },
  {
   "cell_type": "code",
   "execution_count": 3,
   "id": "33712d3f",
   "metadata": {},
   "outputs": [],
   "source": [
    "# Definition for singly-linked list.\n",
    "# class ListNode:\n",
    "#     def __init__(self, val=0, next=None):\n",
    "#         self.val = val\n",
    "#         self.next = next\n",
    "class Solution:\n",
    "    def reverseList(self, head):\n",
    "        cur = head\n",
    "        prev = None\n",
    "        while cur:\n",
    "            n = cur.next\n",
    "            cur.next = prev\n",
    "            prev = cur\n",
    "            cur = n\n",
    "        return prev"
   ]
  },
  {
   "cell_type": "markdown",
   "id": "5cb467f1",
   "metadata": {},
   "source": [
    "## Contains Duplicate 12/01/21\n",
    "Given an integer array nums, return true if any value appears at least twice in the array, and return false if every element is distinct."
   ]
  },
  {
   "cell_type": "code",
   "execution_count": 4,
   "id": "0f6deaf1",
   "metadata": {},
   "outputs": [],
   "source": [
    "class Solution:\n",
    "    def containsDuplicate(self, nums):\n",
    "        return len(set(nums))!=len(nums)"
   ]
  },
  {
   "cell_type": "markdown",
   "id": "3ac0c4e7",
   "metadata": {},
   "source": [
    "## Contains Duplicate II 12/02/21\n",
    "Given an integer array nums and an integer k, return true if there are two distinct indices i and j in the array such that nums[i] == nums[j] and abs(i - j) <= k."
   ]
  },
  {
   "cell_type": "code",
   "execution_count": 2,
   "id": "be40e9cb",
   "metadata": {},
   "outputs": [],
   "source": [
    "class Solution:\n",
    "    def containsNearbyDuplicate(self, nums, k):\n",
    "        index = {}\n",
    "        for i, n in enumerate(nums):\n",
    "            if n in index and i-index[n]<=k:\n",
    "                return True\n",
    "            index[n]=i\n",
    "        return False"
   ]
  },
  {
   "cell_type": "markdown",
   "id": "44b07ff5",
   "metadata": {},
   "source": [
    "## Implement Stack using Queues 12/03/21\n",
    "Implement a last-in-first-out (LIFO) stack using only two queues. The implemented stack should support all the functions of a normal stack (push, top, pop, and empty)"
   ]
  },
  {
   "cell_type": "code",
   "execution_count": 1,
   "id": "9e769c3e",
   "metadata": {},
   "outputs": [],
   "source": [
    "class MyStack:\n",
    "\n",
    "    def __init__(self):\n",
    "        self.queue=deque()\n",
    "\n",
    "    def push(self, x: int):\n",
    "        self.queue.append(x)\n",
    "        for i in range(len(self.queue)-1):\n",
    "            self.queue.append(self.queue.popleft())\n",
    "\n",
    "    def pop(self):\n",
    "        return self.queue.popleft()\n",
    "\n",
    "    def top(self):\n",
    "        return self.queue[0]\n",
    "\n",
    "    def empty(self):\n",
    "        return len(self.queue)==0\n",
    "\n",
    "\n",
    "# Your MyStack object will be instantiated and called as such:\n",
    "# obj = MyStack()\n",
    "# obj.push(x)\n",
    "# param_2 = obj.pop()\n",
    "# param_3 = obj.top()\n",
    "# param_4 = obj.empty()"
   ]
  },
  {
   "cell_type": "markdown",
   "id": "1e2f92ab",
   "metadata": {},
   "source": [
    "##  Invert Binary Tree 12/04/21\n",
    "Given the root of a binary tree, invert the tree, and return its root."
   ]
  },
  {
   "cell_type": "code",
   "execution_count": 3,
   "id": "c9d48988",
   "metadata": {},
   "outputs": [],
   "source": [
    "# Definition for a binary tree node.\n",
    "# class TreeNode:\n",
    "#     def __init__(self, val=0, left=None, right=None):\n",
    "#         self.val = val\n",
    "#         self.left = left\n",
    "#         self.right = right\n",
    "## recursive\n",
    "class Solution:\n",
    "    def invertTree(self, root):\n",
    "        if root:\n",
    "            invert = self.invertTree\n",
    "            root.left, root.right = invert(root.right), invert(root.left)\n",
    "            return root\n",
    "        "
   ]
  },
  {
   "cell_type": "code",
   "execution_count": 4,
   "id": "cf6720d3",
   "metadata": {},
   "outputs": [],
   "source": [
    "### use stack:\n",
    "class Solution:\n",
    "    def invertTree(self, root):\n",
    "        stack = [root]\n",
    "        while stack:\n",
    "            node = stack.pop()\n",
    "            if node:\n",
    "                node.left, node.right = node.right, node.left\n",
    "                stack+=node.left,node.right\n",
    "        return root"
   ]
  },
  {
   "cell_type": "markdown",
   "id": "54fcab44",
   "metadata": {},
   "source": [
    "## Power of two 12/05/21\n",
    "Given an integer n, return true if it is a power of two. Otherwise, return false."
   ]
  },
  {
   "cell_type": "code",
   "execution_count": null,
   "id": "a36492d2",
   "metadata": {},
   "outputs": [],
   "source": [
    "class Solution:## time O(logN)\n",
    "    def isPowerOfTwo(self, n):\n",
    "        if n==0:\n",
    "            return False\n",
    "        while n%2==0:\n",
    "            n=n/2\n",
    "        return n==1"
   ]
  },
  {
   "cell_type": "code",
   "execution_count": 2,
   "id": "fabedac6",
   "metadata": {},
   "outputs": [],
   "source": [
    "class Solution: # time O(1) space O(1)\n",
    "    def isPowerOfTwo(self, n):\n",
    "        if n==0:\n",
    "            return False\n",
    "        return n&(-n)==n"
   ]
  },
  {
   "cell_type": "markdown",
   "id": "4441be8c",
   "metadata": {},
   "source": [
    "## Palindrome Linked List 12/05/21\n",
    "Given the head of a singly linked list, return true if it is a palindrome"
   ]
  },
  {
   "cell_type": "code",
   "execution_count": 1,
   "id": "ca05d425",
   "metadata": {},
   "outputs": [],
   "source": [
    "# Definition for singly-linked list.\n",
    "# class ListNode:\n",
    "#     def __init__(self, val=0, next=None):\n",
    "#         self.val = val\n",
    "#         self.next = next\n",
    "class Solution: ## two pointer\n",
    "    def isPalindrome(self, head):\n",
    "        vals=[]\n",
    "        current_node=head\n",
    "        while current_node is not None:\n",
    "            vals.append(current_node.val)\n",
    "            current_node = current_node.next\n",
    "        return vals==vals[::-1]       "
   ]
  },
  {
   "cell_type": "markdown",
   "id": "3d2d08e7",
   "metadata": {},
   "source": [
    "## Implement Queue using stacks 12/06/21"
   ]
  },
  {
   "cell_type": "code",
   "execution_count": 1,
   "id": "6bcec63d",
   "metadata": {},
   "outputs": [],
   "source": [
    "class MyQueue:\n",
    "\n",
    "    def __init__(self):\n",
    "        self.s1=[]\n",
    "        self.s2=[]\n",
    "\n",
    "    def push(self, x):\n",
    "        while self.s1:\n",
    "            self.s2.append(self.s1.pop())\n",
    "        self.s1.append(x)\n",
    "        while self.s2:\n",
    "            self.s1.append(self.s2.pop())\n",
    "\n",
    "    def pop(self):\n",
    "        return self.s1.pop()\n",
    "\n",
    "    def peek(self):\n",
    "        return self.s1[-1]\n",
    "\n",
    "    def empty(self):\n",
    "        return not self.s1\n",
    "\n"
   ]
  },
  {
   "cell_type": "markdown",
   "id": "8de43bbd",
   "metadata": {},
   "source": [
    "## Lowest Common Ancestor of a Binary Search Tree 12/07/21\n",
    "Given a binary search tree (BST), find the lowest common ancestor (LCA) of two given nodes in the BST."
   ]
  },
  {
   "cell_type": "code",
   "execution_count": 3,
   "id": "d79a8f70",
   "metadata": {},
   "outputs": [],
   "source": [
    "# Definition for a binary tree node.\n",
    "# class TreeNode:\n",
    "#     def __init__(self, x):\n",
    "#         self.val = x\n",
    "#         self.left = None\n",
    "#         self.right = None\n",
    "\n",
    "class Solution:## O(N), O(N)\n",
    "    def lowestCommonAncestor(self, root, p, q):\n",
    "        parent_val = root.val\n",
    "        p_val=p.val\n",
    "        q_val=q.val\n",
    "        if p_val>parent_val and q_val >parent_val:\n",
    "            return self.lowestCommonAncestor(root.right, p, q)\n",
    "        elif p_val < parent_val and q_val < parent_val:\n",
    "            return self.lowestCommonAncestor(root.left, p, q)\n",
    "        else:\n",
    "            return root        "
   ]
  },
  {
   "cell_type": "code",
   "execution_count": null,
   "id": "2a0f13a4",
   "metadata": {},
   "outputs": [],
   "source": []
  }
 ],
 "metadata": {
  "kernelspec": {
   "display_name": "Python 3",
   "language": "python",
   "name": "python3"
  },
  "language_info": {
   "codemirror_mode": {
    "name": "ipython",
    "version": 3
   },
   "file_extension": ".py",
   "mimetype": "text/x-python",
   "name": "python",
   "nbconvert_exporter": "python",
   "pygments_lexer": "ipython3",
   "version": "3.8.8"
  }
 },
 "nbformat": 4,
 "nbformat_minor": 5
}

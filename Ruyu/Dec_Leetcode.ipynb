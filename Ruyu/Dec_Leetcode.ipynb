{
 "cells": [
  {
   "cell_type": "markdown",
   "id": "6690f5bc",
   "metadata": {},
   "source": [
    "## Reverse Linked List 12/01/21 \n",
    "Given the head of a singly linked list, reverse the list, and return the reversed list. Time O(n) spcae O(1)"
   ]
  },
  {
   "cell_type": "code",
   "execution_count": 3,
   "id": "33712d3f",
   "metadata": {},
   "outputs": [],
   "source": [
    "# Definition for singly-linked list.\n",
    "# class ListNode:\n",
    "#     def __init__(self, val=0, next=None):\n",
    "#         self.val = val\n",
    "#         self.next = next\n",
    "class Solution:\n",
    "    def reverseList(self, head):\n",
    "        cur = head\n",
    "        prev = None\n",
    "        while cur:\n",
    "            n = cur.next\n",
    "            cur.next = prev\n",
    "            prev = cur\n",
    "            cur = n\n",
    "        return prev"
   ]
  },
  {
   "cell_type": "markdown",
   "id": "5cb467f1",
   "metadata": {},
   "source": [
    "## Contains Duplicate 12/01/21\n",
    "Given an integer array nums, return true if any value appears at least twice in the array, and return false if every element is distinct."
   ]
  },
  {
   "cell_type": "code",
   "execution_count": 4,
   "id": "0f6deaf1",
   "metadata": {},
   "outputs": [],
   "source": [
    "class Solution:\n",
    "    def containsDuplicate(self, nums):\n",
    "        return len(set(nums))!=len(nums)"
   ]
  },
  {
   "cell_type": "markdown",
   "id": "3ac0c4e7",
   "metadata": {},
   "source": [
    "## Contains Duplicate II 12/02/21\n",
    "Given an integer array nums and an integer k, return true if there are two distinct indices i and j in the array such that nums[i] == nums[j] and abs(i - j) <= k."
   ]
  },
  {
   "cell_type": "code",
   "execution_count": 2,
   "id": "be40e9cb",
   "metadata": {},
   "outputs": [],
   "source": [
    "class Solution:\n",
    "    def containsNearbyDuplicate(self, nums, k):\n",
    "        index = {}\n",
    "        for i, n in enumerate(nums):\n",
    "            if n in index and i-index[n]<=k:\n",
    "                return True\n",
    "            index[n]=i\n",
    "        return False"
   ]
  },
  {
   "cell_type": "markdown",
   "id": "44b07ff5",
   "metadata": {},
   "source": [
    "## Implement Stack using Queues 12/03/21"
   ]
  }
 ],
 "metadata": {
  "kernelspec": {
   "display_name": "Python 3",
   "language": "python",
   "name": "python3"
  },
  "language_info": {
   "codemirror_mode": {
    "name": "ipython",
    "version": 3
   },
   "file_extension": ".py",
   "mimetype": "text/x-python",
   "name": "python",
   "nbconvert_exporter": "python",
   "pygments_lexer": "ipython3",
   "version": "3.8.8"
  }
 },
 "nbformat": 4,
 "nbformat_minor": 5
}

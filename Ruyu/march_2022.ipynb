{
 "cells": [
  {
   "cell_type": "markdown",
   "id": "e7cd4bf3",
   "metadata": {},
   "source": [
    "## Mar 11, 2022\n",
    "# Range Sum of BST"
   ]
  },
  {
   "cell_type": "code",
   "execution_count": 2,
   "id": "0bf12245",
   "metadata": {},
   "outputs": [],
   "source": [
    "# Definition for a binary tree node.\n",
    "# class TreeNode:\n",
    "#     def __init__(self, val=0, left=None, right=None):\n",
    "#         self.val = val\n",
    "#         self.left = left\n",
    "#         self.right = right\n",
    "class Solution:\n",
    "    def rangeSumBST(self, root, L,R):\n",
    "        def dfs(node):\n",
    "            if node:\n",
    "                if L<= node.val<=R:\n",
    "                    self.ans+=node.val\n",
    "                if L <node.val:\n",
    "                    dfs(node.left)\n",
    "                if node.val<R:\n",
    "                    dfs(node.right)\n",
    "        \n",
    "        self.ans=0\n",
    "        dfs(root)\n",
    "        return self.ans"
   ]
  },
  {
   "cell_type": "markdown",
   "id": "7d237385",
   "metadata": {},
   "source": [
    "## March 20, 2022\n",
    "## How to sort a list in Python without sort function example"
   ]
  },
  {
   "cell_type": "code",
   "execution_count": 2,
   "id": "5fd584a7",
   "metadata": {},
   "outputs": [
    {
     "name": "stdout",
     "output_type": "stream",
     "text": [
      "[-2, -1, 0, 1, 2, 3, 4]\n"
     ]
    }
   ],
   "source": [
    "list = [4, 2, 3, -1, -2, 0, 1]\n",
    "\n",
    "for i in range(len(list)):\n",
    "    for j in range(i+1, len(list)):\n",
    "        if list[i]>list[j]:\n",
    "            list[i], list[j]=list[j], list[i]\n",
    "print(list)"
   ]
  },
  {
   "cell_type": "markdown",
   "id": "5d2a9505",
   "metadata": {},
   "source": [
    "## March 27 2022 switch ABC to number"
   ]
  },
  {
   "cell_type": "code",
   "execution_count": 1,
   "id": "6f6929c0",
   "metadata": {},
   "outputs": [],
   "source": [
    "class Solution:\n",
    "    def convertToTile(self, num):\n",
    "        capitals = [chr(x) for x in range(ord('A'), ord('Z')+1)]\n",
    "        result = []\n",
    "        \n",
    "        while num>0:\n",
    "            result.append(capitals[(num-1)%26])\n",
    "            num=(num-1)//26\n",
    "        result.reverse()\n",
    "        return ''.join(results)"
   ]
  },
  {
   "cell_type": "code",
   "execution_count": null,
   "id": "caa22188",
   "metadata": {},
   "outputs": [],
   "source": []
  }
 ],
 "metadata": {
  "kernelspec": {
   "display_name": "Python 3",
   "language": "python",
   "name": "python3"
  },
  "language_info": {
   "codemirror_mode": {
    "name": "ipython",
    "version": 3
   },
   "file_extension": ".py",
   "mimetype": "text/x-python",
   "name": "python",
   "nbconvert_exporter": "python",
   "pygments_lexer": "ipython3",
   "version": "3.8.8"
  }
 },
 "nbformat": 4,
 "nbformat_minor": 5
}

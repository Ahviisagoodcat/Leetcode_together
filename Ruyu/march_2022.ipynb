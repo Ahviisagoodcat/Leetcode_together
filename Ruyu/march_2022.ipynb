{
 "cells": [
  {
   "cell_type": "markdown",
   "id": "e7cd4bf3",
   "metadata": {},
   "source": [
    "## Mar 11, 2022\n",
    "# Range Sum of BST"
   ]
  },
  {
   "cell_type": "code",
   "execution_count": 2,
   "id": "0bf12245",
   "metadata": {},
   "outputs": [],
   "source": [
    "# Definition for a binary tree node.\n",
    "# class TreeNode:\n",
    "#     def __init__(self, val=0, left=None, right=None):\n",
    "#         self.val = val\n",
    "#         self.left = left\n",
    "#         self.right = right\n",
    "class Solution:\n",
    "    def rangeSumBST(self, root, L,R):\n",
    "        def dfs(node):\n",
    "            if node:\n",
    "                if L<= node.val<=R:\n",
    "                    self.ans+=node.val\n",
    "                if L <node.val:\n",
    "                    dfs(node.left)\n",
    "                if node.val<R:\n",
    "                    dfs(node.right)\n",
    "        \n",
    "        self.ans=0\n",
    "        dfs(root)\n",
    "        return self.ans"
   ]
  },
  {
   "cell_type": "code",
   "execution_count": null,
   "id": "1b9838c6",
   "metadata": {},
   "outputs": [],
   "source": []
  }
 ],
 "metadata": {
  "kernelspec": {
   "display_name": "Python 3",
   "language": "python",
   "name": "python3"
  },
  "language_info": {
   "codemirror_mode": {
    "name": "ipython",
    "version": 3
   },
   "file_extension": ".py",
   "mimetype": "text/x-python",
   "name": "python",
   "nbconvert_exporter": "python",
   "pygments_lexer": "ipython3",
   "version": "3.8.8"
  }
 },
 "nbformat": 4,
 "nbformat_minor": 5
}
